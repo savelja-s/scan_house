{
 "cells": [
  {
   "cell_type": "code",
   "execution_count": null,
   "metadata": {},
   "outputs": [],
   "source": [
    "import json, pdal, pandas as pd\n",
    "\n",
    "file_las_path = 'lidar_files/1.las'\n",
    "\n",
    "# 1. PDAL‑pipeline: читаємо LAS, SMRF, HAG_NN і decimation(step=200)\n",
    "pipeline = pdal.Pipeline(json.dumps([\n",
    "    {\"type\": \"readers.las\",       \"filename\": file_las_path},\n",
    "    {\"type\": \"filters.smrf\",      \"scalar\": 1.25, \"slope\": 0.15, \"threshold\": 0.5, \"window\": 16.0},\n",
    "    {\"type\": \"filters.hag_nn\"},\n",
    "    {\"type\": \"filters.decimation\",\"step\": 200}    # приблизно 1/200 ≈ 0.5%\n",
    "]))\n",
    "pipeline.execute()\n",
    "arr = pipeline.arrays[0]\n",
    "\n",
    "# 2. DataFrame із базовими ознаками\n",
    "df = pd.DataFrame({\n",
    "    'X':         arr['X'],\n",
    "    'Y':         arr['Y'],\n",
    "    'Z':         arr['Z'],\n",
    "    'HAG':       arr['HAG_NN'],\n",
    "    'Intensity': arr['Intensity'],\n",
    "})\n",
    "df.to_csv('ml_files/features_1.csv', index=False)\n",
    "print(f\"Збережено features.csv з {len(df)} точок.\")"
   ]
  },
  {
   "cell_type": "code",
   "execution_count": null,
   "metadata": {},
   "outputs": [],
   "source": []
  }
 ],
 "metadata": {
  "kernelspec": {
   "display_name": "Python 3 (ipykernel)",
   "language": "python",
   "name": "python3"
  },
  "language_info": {
   "codemirror_mode": {
    "name": "ipython",
    "version": 3
   },
   "file_extension": ".py",
   "mimetype": "text/x-python",
   "name": "python",
   "nbconvert_exporter": "python",
   "pygments_lexer": "ipython3",
   "version": "3.12.11"
  }
 },
 "nbformat": 4,
 "nbformat_minor": 4
}